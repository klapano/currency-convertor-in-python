{
 "cells": [
  {
   "cell_type": "code",
   "execution_count": 4,
   "id": "02496fce",
   "metadata": {},
   "outputs": [
    {
     "name": "stdout",
     "output_type": "stream",
     "text": [
      "enter the amount of money :500\n",
      "from the currency: EUR\n",
      "convert the currency to : USD\n",
      "EUR to USD 500\n",
      "533.3\n"
     ]
    }
   ],
   "source": [
    "from forex_python.converter import CurrencyRates\n",
    "\n",
    "c = CurrencyRates()\n",
    "amount = int(input('enter the amount of money :'))\n",
    "from_currency = input('from the currency: ').upper()\n",
    "to_currency = input('convert the currency to : ').upper()\n",
    "\n",
    "print(from_currency,'to', to_currency, amount)\n",
    "\n",
    "result = c.convert(from_currency, to_currency, amount)\n",
    "\n",
    "print(result)"
   ]
  },
  {
   "cell_type": "code",
   "execution_count": null,
   "id": "18560c0c",
   "metadata": {},
   "outputs": [],
   "source": []
  }
 ],
 "metadata": {
  "kernelspec": {
   "display_name": "Python 3 (ipykernel)",
   "language": "python",
   "name": "python3"
  },
  "language_info": {
   "codemirror_mode": {
    "name": "ipython",
    "version": 3
   },
   "file_extension": ".py",
   "mimetype": "text/x-python",
   "name": "python",
   "nbconvert_exporter": "python",
   "pygments_lexer": "ipython3",
   "version": "3.8.10"
  }
 },
 "nbformat": 4,
 "nbformat_minor": 5
}
